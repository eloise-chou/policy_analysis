{
 "cells": [
  {
   "cell_type": "code",
   "execution_count": 7,
   "metadata": {},
   "outputs": [],
   "source": [
    "import pandas as pd"
   ]
  },
  {
   "cell_type": "code",
   "execution_count": 8,
   "metadata": {},
   "outputs": [
    {
     "name": "stderr",
     "output_type": "stream",
     "text": [
      "C:\\Users\\peipeipig\\AppData\\Local\\Temp\\ipykernel_18164\\3993916469.py:1: DtypeWarning: Columns (3) have mixed types. Specify dtype option on import or set low_memory=False.\n",
      "  industry_data = pd.read_csv('DATA\\industry_data_time_split.csv')\n"
     ]
    }
   ],
   "source": [
    "industry_data = pd.read_csv('DATA\\industry_data_time_split.csv')\n",
    "\n",
    "control_var = pd.read_csv('DATA\\\\unemp_rate_GDP.csv')"
   ]
  },
  {
   "cell_type": "code",
   "execution_count": 9,
   "metadata": {},
   "outputs": [
    {
     "data": {
      "text/html": [
       "<div>\n",
       "<style scoped>\n",
       "    .dataframe tbody tr th:only-of-type {\n",
       "        vertical-align: middle;\n",
       "    }\n",
       "\n",
       "    .dataframe tbody tr th {\n",
       "        vertical-align: top;\n",
       "    }\n",
       "\n",
       "    .dataframe thead th {\n",
       "        text-align: right;\n",
       "    }\n",
       "</style>\n",
       "<table border=\"1\" class=\"dataframe\">\n",
       "  <thead>\n",
       "    <tr style=\"text-align: right;\">\n",
       "      <th></th>\n",
       "      <th>year</th>\n",
       "      <th>state</th>\n",
       "      <th>unemp_rate</th>\n",
       "      <th>GDP_billion</th>\n",
       "    </tr>\n",
       "  </thead>\n",
       "  <tbody>\n",
       "    <tr>\n",
       "      <th>0</th>\n",
       "      <td>1998</td>\n",
       "      <td>山東省</td>\n",
       "      <td>3.3</td>\n",
       "      <td>7162.20</td>\n",
       "    </tr>\n",
       "    <tr>\n",
       "      <th>1</th>\n",
       "      <td>1998</td>\n",
       "      <td>河南省</td>\n",
       "      <td>2.6</td>\n",
       "      <td>4356.60</td>\n",
       "    </tr>\n",
       "    <tr>\n",
       "      <th>2</th>\n",
       "      <td>1998</td>\n",
       "      <td>山西省</td>\n",
       "      <td>2.2</td>\n",
       "      <td>1601.11</td>\n",
       "    </tr>\n",
       "    <tr>\n",
       "      <th>3</th>\n",
       "      <td>1998</td>\n",
       "      <td>天津市</td>\n",
       "      <td>1.4</td>\n",
       "      <td>1336.38</td>\n",
       "    </tr>\n",
       "    <tr>\n",
       "      <th>4</th>\n",
       "      <td>1998</td>\n",
       "      <td>北京市</td>\n",
       "      <td>0.7</td>\n",
       "      <td>2011.31</td>\n",
       "    </tr>\n",
       "    <tr>\n",
       "      <th>...</th>\n",
       "      <td>...</td>\n",
       "      <td>...</td>\n",
       "      <td>...</td>\n",
       "      <td>...</td>\n",
       "    </tr>\n",
       "    <tr>\n",
       "      <th>100</th>\n",
       "      <td>2013</td>\n",
       "      <td>河南省</td>\n",
       "      <td>3.1</td>\n",
       "      <td>32191.30</td>\n",
       "    </tr>\n",
       "    <tr>\n",
       "      <th>101</th>\n",
       "      <td>2013</td>\n",
       "      <td>北京市</td>\n",
       "      <td>1.2</td>\n",
       "      <td>19800.81</td>\n",
       "    </tr>\n",
       "    <tr>\n",
       "      <th>102</th>\n",
       "      <td>2013</td>\n",
       "      <td>河北省</td>\n",
       "      <td>3.7</td>\n",
       "      <td>28442.95</td>\n",
       "    </tr>\n",
       "    <tr>\n",
       "      <th>103</th>\n",
       "      <td>2013</td>\n",
       "      <td>天津市</td>\n",
       "      <td>3.6</td>\n",
       "      <td>14442.01</td>\n",
       "    </tr>\n",
       "    <tr>\n",
       "      <th>104</th>\n",
       "      <td>2013</td>\n",
       "      <td>遼寧省</td>\n",
       "      <td>3.4</td>\n",
       "      <td>27213.22</td>\n",
       "    </tr>\n",
       "  </tbody>\n",
       "</table>\n",
       "<p>105 rows × 4 columns</p>\n",
       "</div>"
      ],
      "text/plain": [
       "     year state  unemp_rate  GDP_billion\n",
       "0    1998   山東省         3.3      7162.20\n",
       "1    1998   河南省         2.6      4356.60\n",
       "2    1998   山西省         2.2      1601.11\n",
       "3    1998   天津市         1.4      1336.38\n",
       "4    1998   北京市         0.7      2011.31\n",
       "..    ...   ...         ...          ...\n",
       "100  2013   河南省         3.1     32191.30\n",
       "101  2013   北京市         1.2     19800.81\n",
       "102  2013   河北省         3.7     28442.95\n",
       "103  2013   天津市         3.6     14442.01\n",
       "104  2013   遼寧省         3.4     27213.22\n",
       "\n",
       "[105 rows x 4 columns]"
      ]
     },
     "execution_count": 9,
     "metadata": {},
     "output_type": "execute_result"
    }
   ],
   "source": [
    "control_var"
   ]
  },
  {
   "cell_type": "code",
   "execution_count": 10,
   "metadata": {},
   "outputs": [],
   "source": [
    "industry_data_with_control_var = industry_data.merge(control_var, how = 'left', on = ['year', 'state'])"
   ]
  },
  {
   "cell_type": "code",
   "execution_count": 13,
   "metadata": {},
   "outputs": [],
   "source": [
    "industry_data_with_control_var.to_csv('DATA/industry_data_with_control_var.csv', index = False)"
   ]
  },
  {
   "cell_type": "markdown",
   "metadata": {},
   "source": [
    "# 下一步\n"
   ]
  },
  {
   "cell_type": "markdown",
   "metadata": {},
   "source": [
    "利用 STATA 進行 DID 分析，請參考\n",
    "[DID 分析](./DID_analysis.ipynb)"
   ]
  }
 ],
 "metadata": {
  "kernelspec": {
   "display_name": "base",
   "language": "python",
   "name": "python3"
  },
  "language_info": {
   "codemirror_mode": {
    "name": "ipython",
    "version": 3
   },
   "file_extension": ".py",
   "mimetype": "text/x-python",
   "name": "python",
   "nbconvert_exporter": "python",
   "pygments_lexer": "ipython3",
   "version": "3.8.8"
  }
 },
 "nbformat": 4,
 "nbformat_minor": 2
}

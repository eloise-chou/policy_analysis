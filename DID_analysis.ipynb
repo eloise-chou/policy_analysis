{
 "cells": [
  {
   "cell_type": "markdown",
   "metadata": {},
   "source": [
    "# DID 分析"
   ]
  },
  {
   "cell_type": "markdown",
   "metadata": {},
   "source": [
    "建立路徑變數"
   ]
  },
  {
   "cell_type": "code",
   "execution_count": null,
   "metadata": {},
   "outputs": [],
   "source": [
    "global data = \"C:\\Users\\peipeipig\\OneDrive\\桌面\\DATA\\workdata\\Step7_add unemp_rate & GDP\"\n",
    "global data_1 = \"C:\\Users\\peipeipig\\OneDrive\\桌面\\DATA\\workdata\\fixed effect\""
   ]
  },
  {
   "cell_type": "code",
   "execution_count": null,
   "metadata": {},
   "outputs": [],
   "source": [
    "use \"$data\\add unemp_rate & GDP_billion(1998~2013).dta\", clear"
   ]
  },
  {
   "cell_type": "markdown",
   "metadata": {},
   "source": [
    "建立交乘項"
   ]
  },
  {
   "cell_type": "code",
   "execution_count": null,
   "metadata": {},
   "outputs": [],
   "source": [
    "label variable plan_prophase \"BTH_Area*post_0709\"\n",
    "label variable plan_late \"BTH_Area*post_1113\" \n",
    "label variable unemp_rate \"unemp_rate(%)\""
   ]
  },
  {
   "cell_type": "markdown",
   "metadata": {},
   "source": [
    "回歸分析"
   ]
  },
  {
   "cell_type": "code",
   "execution_count": null,
   "metadata": {},
   "outputs": [],
   "source": [
    "reg profit_thousand_dollar BTH_Area post_0709 post_1113 plan_prophase plan_late, r\n",
    "\n",
    "outreg2 using reg_(no_fixed_effect).tex, replace tstat bdec(3) tdec(2) ctitle( profit_thousand_dollar ) keep(plan_prophase plan_late) label addtext(BTH_Area, Yes, post_0709, Yes, post_1113, Yes, unemp_rate, No, GDP_billion, No, State FE, No, Year FE, No)"
   ]
  },
  {
   "cell_type": "code",
   "execution_count": null,
   "metadata": {},
   "outputs": [],
   "source": [
    "reg profit_thousand_dollar BTH_Area post_0709 post_1113 plan_prophase plan_late unemp_rate GDP_billion, r\n",
    "\n",
    "outreg2 using reg_(no_fixed_effect).tex, append tstat bdec(3) tdec(2) ctitle( profit_thousand_dollar ) keep(plan_prophase plan_late) label addtext(BTH_Area, Yes, post_0709, Yes, post_1113, Yes, unemp_rate, Yes, GDP_billion, Yes, State FE, NO, Year FE, NO)"
   ]
  },
  {
   "cell_type": "code",
   "execution_count": null,
   "metadata": {},
   "outputs": [],
   "source": [
    "xi : reg profit_thousand_dollar post_0709 post_1113 plan_prophase plan_late unemp_rate GDP_billion i.state, r\n",
    "\n",
    "outreg2 using reg_(fixed_effect).tex, append tstat bdec(3) tdec(2) ctitle( profit_thousand_dollar ) keep(plan_prophase plan_late) label addtext(BTH_Area, No, post_0709, Yes, post_1113, Yes, unemp_rate, Yes, GDP_billion, Yes, State FE, Yes, Year FE, NO)"
   ]
  },
  {
   "cell_type": "code",
   "execution_count": null,
   "metadata": {},
   "outputs": [],
   "source": [
    "xi : reg profit_thousand_dollar BTH_Area plan_prophase plan_late unemp_rate GDP_billion i.year, r\n",
    "\n",
    "outreg2 using reg_(fixed_effect).tex, append tstat bdec(3) tdec(2) ctitle( profit_thousand_dollar ) keep(plan_prophase plan_late) label addtext(BTH_Area, Yes, post_0709, No, post_1113, No, unemp_rate, Yes, GDP_billion, Yes, State FE, No, Year FE, Yes)"
   ]
  },
  {
   "cell_type": "code",
   "execution_count": null,
   "metadata": {},
   "outputs": [],
   "source": [
    "xi : reg profit_thousand_dollar plan_prophase plan_late unemp_rate GDP_billion i.state i.year, r\n",
    "\n",
    "outreg2 using reg_(fixed_effect).tex, append tstat bdec(3) tdec(2) ctitle( profit_thousand_dollar ) keep(plan_prophase plan_late) label addtext(BTH_Area, No, post_0709, No, post_1113, No, unemp_rate, Yes, GDP_billion, Yes, State FE, Yes, Year FE, Yes)"
   ]
  }
 ],
 "metadata": {
  "language_info": {
   "name": "python"
  }
 },
 "nbformat": 4,
 "nbformat_minor": 2
}

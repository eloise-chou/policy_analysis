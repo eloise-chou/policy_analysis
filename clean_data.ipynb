{
 "cells": [
  {
   "cell_type": "code",
   "execution_count": 15,
   "metadata": {},
   "outputs": [],
   "source": [
    "import pandas as pd\n",
    "from model.extract_state import extract_state"
   ]
  },
  {
   "cell_type": "markdown",
   "metadata": {},
   "source": [
    "# 清理資料"
   ]
  },
  {
   "cell_type": "code",
   "execution_count": 16,
   "metadata": {},
   "outputs": [
    {
     "name": "stderr",
     "output_type": "stream",
     "text": [
      "C:\\Users\\peipeipig\\AppData\\Local\\Temp\\ipykernel_26928\\3229346002.py:1: DtypeWarning: Columns (3) have mixed types. Specify dtype option on import or set low_memory=False.\n",
      "  industry_data = pd.read_csv('DATA/china_industry_1998-2013.csv')\n"
     ]
    }
   ],
   "source": [
    "industry_data = pd.read_csv('DATA/china_industry_1998-2013.csv')"
   ]
  },
  {
   "cell_type": "markdown",
   "metadata": {},
   "source": [
    "因 DID 模型要特性差不多的群體才能減少誤差項的干擾，因此只把北京、天津、遼寧、山東、山東、山西、河北、河南的資料留下"
   ]
  },
  {
   "cell_type": "code",
   "execution_count": 17,
   "metadata": {},
   "outputs": [],
   "source": [
    "states_to_keep = [\"辽宁\", \"北京\", \"天津\", \"山东\", \"山西\", \"河北\", \"河南\"]\n",
    "\n",
    "industry_data_around_BTH = industry_data[industry_data['state'].str.contains('|'.join(states_to_keep))]"
   ]
  },
  {
   "cell_type": "markdown",
   "metadata": {},
   "source": [
    "因原記錄檔案裡的地區名稱未統一，為了提高後續分析的便利性，這邊先統一地區名稱"
   ]
  },
  {
   "cell_type": "code",
   "execution_count": null,
   "metadata": {},
   "outputs": [],
   "source": [
    "industry_data_around_BTH['state'] = industry_data_around_BTH['state'].apply(lambda x: extract_state(x) if extract_state(x) else x)"
   ]
  },
  {
   "cell_type": "code",
   "execution_count": null,
   "metadata": {},
   "outputs": [],
   "source": [
    "mapping_rules = {\n",
    "    '北京': '北京市',\n",
    "    '天津': '天津市',\n",
    "    '辽宁': '遼寧省',\n",
    "    '山东': '山東省',\n",
    "    '山西': '山西省',\n",
    "    '河北': '河北省',\n",
    "    '河南': '河南省'\n",
    "}\n",
    "\n",
    "for key, value in mapping_rules.items():\n",
    "    industry_data_around_BTH['state'] = industry_data_around_BTH['state'].str.replace(key, value)"
   ]
  },
  {
   "cell_type": "code",
   "execution_count": 21,
   "metadata": {},
   "outputs": [],
   "source": [
    "industry_data_around_BTH.to_csv(\"DATA/industry_data_align_statename.csv\", index = False)"
   ]
  },
  {
   "cell_type": "markdown",
   "metadata": {},
   "source": [
    "# 下一步"
   ]
  },
  {
   "cell_type": "markdown",
   "metadata": {},
   "source": [
    "接著進行特徵工程，將此計畫實行地區 \"北京市\"、\"天津市\"、\"河北省\" 與非計畫實行區分開，請參考\n",
    "[區域區分](./arrange_data.ipynb)"
   ]
  }
 ],
 "metadata": {
  "kernelspec": {
   "display_name": "base",
   "language": "python",
   "name": "python3"
  },
  "language_info": {
   "codemirror_mode": {
    "name": "ipython",
    "version": 3
   },
   "file_extension": ".py",
   "mimetype": "text/x-python",
   "name": "python",
   "nbconvert_exporter": "python",
   "pygments_lexer": "ipython3",
   "version": "3.8.8"
  }
 },
 "nbformat": 4,
 "nbformat_minor": 2
}

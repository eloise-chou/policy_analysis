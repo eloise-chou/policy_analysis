{
 "cells": [
  {
   "cell_type": "code",
   "execution_count": 1,
   "metadata": {},
   "outputs": [],
   "source": [
    "import pandas as pd\n",
    "import numpy as np"
   ]
  },
  {
   "cell_type": "markdown",
   "metadata": {},
   "source": [
    "# 區分計畫實行區"
   ]
  },
  {
   "cell_type": "code",
   "execution_count": 2,
   "metadata": {},
   "outputs": [
    {
     "name": "stderr",
     "output_type": "stream",
     "text": [
      "C:\\Users\\peipeipig\\AppData\\Local\\Temp\\ipykernel_28204\\472713034.py:1: DtypeWarning: Columns (3) have mixed types. Specify dtype option on import or set low_memory=False.\n",
      "  industry_data = pd.read_csv('DATA\\industry_data_align_statename.csv')\n"
     ]
    }
   ],
   "source": [
    "industry_data = pd.read_csv('DATA\\industry_data_align_statename.csv')"
   ]
  },
  {
   "cell_type": "code",
   "execution_count": 3,
   "metadata": {},
   "outputs": [],
   "source": [
    "plan_area = ['北京市', '天津市', '河北省']\n",
    "\n",
    "industry_data['eleven_five'] = np.where(industry_data['state'].isin(plan_area), 1, 0)"
   ]
  },
  {
   "cell_type": "markdown",
   "metadata": {},
   "source": [
    "# 區分計畫前後時間"
   ]
  },
  {
   "cell_type": "code",
   "execution_count": 4,
   "metadata": {},
   "outputs": [],
   "source": [
    "industry_data['post_0709'] = np.where(industry_data['year'].isin([2007, 2008, 2009]), 1, 0)\n",
    "\n",
    "industry_data['post_1113'] = np.where(industry_data['year'].isin([2011, 2012, 2013]), 1, 0)"
   ]
  },
  {
   "cell_type": "code",
   "execution_count": 5,
   "metadata": {},
   "outputs": [],
   "source": [
    "industry_data.to_csv('DATA/industry_data_time_split.csv', index = False)"
   ]
  },
  {
   "cell_type": "markdown",
   "metadata": {},
   "source": [
    "# 下一步"
   ]
  },
  {
   "cell_type": "markdown",
   "metadata": {},
   "source": [
    "接著加入控制變數 \"各地區失業率\"、\"各地區 GDP\"，請參考\n",
    "[加入控制變數](./add_control_variables.ipynb)"
   ]
  }
 ],
 "metadata": {
  "kernelspec": {
   "display_name": "base",
   "language": "python",
   "name": "python3"
  },
  "language_info": {
   "codemirror_mode": {
    "name": "ipython",
    "version": 3
   },
   "file_extension": ".py",
   "mimetype": "text/x-python",
   "name": "python",
   "nbconvert_exporter": "python",
   "pygments_lexer": "ipython3",
   "version": "3.8.8"
  }
 },
 "nbformat": 4,
 "nbformat_minor": 2
}
